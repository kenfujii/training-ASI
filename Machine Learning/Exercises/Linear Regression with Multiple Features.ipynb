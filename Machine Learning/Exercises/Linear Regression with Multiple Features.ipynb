{
 "metadata": {
  "name": "",
  "signature": "sha256:e4de4ded7d0a9c785c1c1ba82c7f0cf9859ec6d5196eebd1d15d4d02b656f5ab"
 },
 "nbformat": 3,
 "nbformat_minor": 0,
 "worksheets": [
  {
   "cells": [
    {
     "cell_type": "heading",
     "level": 1,
     "metadata": {},
     "source": [
      "Linear Regression Multiple Features Practical"
     ]
    },
    {
     "cell_type": "markdown",
     "metadata": {},
     "source": [
      "Begin by importing all necessary modules"
     ]
    },
    {
     "cell_type": "code",
     "collapsed": false,
     "input": [
      "import numpy as np\n",
      "import pandas as pd\n",
      "import matplotlib as mpl\n",
      "import matplotlib.pyplot as plt\n",
      "import pylab\n",
      "#mpl.style.available\n",
      "#mpl.style.use('ggplot') \n",
      "\n",
      "%matplotlib inline "
     ],
     "language": "python",
     "metadata": {},
     "outputs": [],
     "prompt_number": 3
    },
    {
     "cell_type": "markdown",
     "metadata": {},
     "source": [
      "Load LinRegMultiDataset.csv onto a data frame. Use pd.read_csv(...)"
     ]
    },
    {
     "cell_type": "code",
     "collapsed": false,
     "input": [
      "df = pd.read_csv('LinRegMultiDataset.csv')"
     ],
     "language": "python",
     "metadata": {},
     "outputs": [],
     "prompt_number": 5
    },
    {
     "cell_type": "markdown",
     "metadata": {},
     "source": [
      "Explore first lines and data format using df.head()"
     ]
    },
    {
     "cell_type": "code",
     "collapsed": false,
     "input": [
      "df.head()"
     ],
     "language": "python",
     "metadata": {},
     "outputs": [
      {
       "html": [
        "<div style=\"max-height:1000px;max-width:1500px;overflow:auto;\">\n",
        "<table border=\"1\" class=\"dataframe\">\n",
        "  <thead>\n",
        "    <tr style=\"text-align: right;\">\n",
        "      <th></th>\n",
        "      <th>X1</th>\n",
        "      <th>X2</th>\n",
        "      <th>Y</th>\n",
        "    </tr>\n",
        "  </thead>\n",
        "  <tbody>\n",
        "    <tr>\n",
        "      <th>0</th>\n",
        "      <td> 2104</td>\n",
        "      <td> 3</td>\n",
        "      <td> 399900</td>\n",
        "    </tr>\n",
        "    <tr>\n",
        "      <th>1</th>\n",
        "      <td> 1600</td>\n",
        "      <td> 3</td>\n",
        "      <td> 329900</td>\n",
        "    </tr>\n",
        "    <tr>\n",
        "      <th>2</th>\n",
        "      <td> 2400</td>\n",
        "      <td> 3</td>\n",
        "      <td> 369000</td>\n",
        "    </tr>\n",
        "    <tr>\n",
        "      <th>3</th>\n",
        "      <td> 1416</td>\n",
        "      <td> 2</td>\n",
        "      <td> 232000</td>\n",
        "    </tr>\n",
        "    <tr>\n",
        "      <th>4</th>\n",
        "      <td> 3000</td>\n",
        "      <td> 4</td>\n",
        "      <td> 539900</td>\n",
        "    </tr>\n",
        "  </tbody>\n",
        "</table>\n",
        "</div>"
       ],
       "metadata": {},
       "output_type": "pyout",
       "prompt_number": 6,
       "text": [
        "     X1  X2       Y\n",
        "0  2104   3  399900\n",
        "1  1600   3  329900\n",
        "2  2400   3  369000\n",
        "3  1416   2  232000\n",
        "4  3000   4  539900"
       ]
      }
     ],
     "prompt_number": 6
    },
    {
     "cell_type": "markdown",
     "metadata": {},
     "source": [
      "Use plt.scatter() to plot X1 against Y, then X2 against Y"
     ]
    },
    {
     "cell_type": "code",
     "collapsed": false,
     "input": [
      "plt.scatter(df.X1, df.X2)"
     ],
     "language": "python",
     "metadata": {},
     "outputs": [
      {
       "metadata": {},
       "output_type": "pyout",
       "prompt_number": 7,
       "text": [
        "<matplotlib.collections.PathCollection at 0x7fb90a0e1990>"
       ]
      },
      {
       "metadata": {},
       "output_type": "display_data",
       "png": "[encoded data removed]",
       "text": [
        "<matplotlib.figure.Figure at 0x7fb90a16d390>"
       ]
      }
     ],
     "prompt_number": 7
    },
    {
     "cell_type": "markdown",
     "metadata": {},
     "source": [
      "Define Multi-variate Linear Function (with two x inputs and three variables)"
     ]
    },
    {
     "cell_type": "code",
     "collapsed": false,
     "input": [
      "def LinFunc(x1, x2, theta_0, theta_1, theta_2):\n",
      "    f = theta_0 + x1*theta_1 + x2*theta_2\n",
      "    return f"
     ],
     "language": "python",
     "metadata": {},
     "outputs": [],
     "prompt_number": 8
    },
    {
     "cell_type": "heading",
     "level": 2,
     "metadata": {},
     "source": [
      "Feature Scaling"
     ]
    },
    {
     "cell_type": "markdown",
     "metadata": {},
     "source": [
      "Write function to scale features according to:\n",
      "\n",
      "$$x_i = \\frac{x_i - \\mu_i}{std(x_i)}$$\n",
      "\n",
      "Use mean() and max() operators built into pandas to do this.\n",
      "Function should should return both the scaled input vector, as well as the mean and std to we can scale later inputs.\n",
      "    "
     ]
    },
    {
     "cell_type": "code",
     "collapsed": false,
     "input": [
      "def FeatureScale(X):\n",
      "    mu = X.mean()\n",
      "    std = X.std()\n",
      "    x_scaled = (X-mu)/float(std)\n",
      "    return x_scaled, mu, std"
     ],
     "language": "python",
     "metadata": {},
     "outputs": [],
     "prompt_number": 9
    },
    {
     "cell_type": "markdown",
     "metadata": {},
     "source": [
      "Scale both input features and store in new columns in data frame (also storing mean and standard deviation"
     ]
    },
    {
     "cell_type": "code",
     "collapsed": false,
     "input": [
      "df['X1_scaled'], X1_mu, X1_std = FeatureScale(df.X1)\n",
      "df['X2_scaled'], X2_mu, X2_std = FeatureScale(df.X2)"
     ],
     "language": "python",
     "metadata": {},
     "outputs": [],
     "prompt_number": 10
    },
    {
     "cell_type": "markdown",
     "metadata": {},
     "source": [
      "Replot using plt.scatter() to confirm scaling"
     ]
    },
    {
     "cell_type": "code",
     "collapsed": false,
     "input": [
      "plt.scatter(df['X1_scaled'], df['X2_scaled'])"
     ],
     "language": "python",
     "metadata": {},
     "outputs": [
      {
       "metadata": {},
       "output_type": "pyout",
       "prompt_number": 11,
       "text": [
        "<matplotlib.collections.PathCollection at 0x7fb909ed1e90>"
       ]
      },
      {
       "metadata": {},
       "output_type": "display_data",
       "png": "[encoded data removed]",
       "text": [
        "<matplotlib.figure.Figure at 0x7fb90a014810>"
       ]
      }
     ],
     "prompt_number": 11
    },
    {
     "cell_type": "heading",
     "level": 2,
     "metadata": {},
     "source": [
      "Multi-variate Gradient Descent"
     ]
    },
    {
     "cell_type": "markdown",
     "metadata": {},
     "source": [
      "Define gradient function:\n",
      "$$g_j = \\frac{1}{m} \\sum_{i=1}^m (y_{pred}^i - y_{obs}^i).x^i_j$$\n",
      "Which takes both predicted and observed values, and a feature vector (x)."
     ]
    },
    {
     "cell_type": "code",
     "collapsed": false,
     "input": [
      "def g(y_obs,y_pred,x):\n",
      "    g = np.sum((y_pred - y_obs)*x)/float(np.size(y_obs))\n",
      "    return g"
     ],
     "language": "python",
     "metadata": {},
     "outputs": [],
     "prompt_number": 12
    },
    {
     "cell_type": "markdown",
     "metadata": {},
     "source": [
      "Define cost function:\n",
      "$$C = \\frac{1}{2m} \\sum_{i=1}^m (y_{obs}^i - y_{pred}^i)^2$$"
     ]
    },
    {
     "cell_type": "code",
     "collapsed": false,
     "input": [
      "def CostFunction(y_obs,y_pred):\n",
      "    cost = np.sum((y_pred - y_obs)**2)/float(2*np.size(y_obs))\n",
      "    return cost"
     ],
     "language": "python",
     "metadata": {},
     "outputs": [],
     "prompt_number": 79
    },
    {
     "cell_type": "markdown",
     "metadata": {},
     "source": [
      "Finish gradient descent algorithm where:\n",
      "$$\\theta_j := \\theta_j - \\alpha g_j$$\n",
      "remembering that \n",
      "$$x_0^i = 1 \\quad \\text{for all } i$$"
     ]
    },
    {
     "cell_type": "code",
     "collapsed": false,
     "input": [
      "def GradDescent(theta_0,theta_1,theta_2,alpha,num_iters):\n",
      "    \n",
      "    #C_history records values for plotting\n",
      "    C_history = []\n",
      "    \n",
      "    #Initalises Ypredicted to ensure existence in dataframe\n",
      "    df['Ypredicted'] = df.Y\n",
      "    \n",
      "    for i in np.arange(num_iters):\n",
      "        #Calculate prediction for parameter values\n",
      "        df.Ypredicted = LinFunc(df.X1_scaled, df.X2_scaled, theta_0, theta_1, theta_2)\n",
      "        \n",
      "        #Update parameters\n",
      "        theta_0 = theta_0 - alpha*g(df.Y,df.Ypredicted, 1)\n",
      "        theta_1 = theta_1 - alpha*g(df.Y,df.Ypredicted,df.X1_scaled)\n",
      "        theta_2 = theta_2 - alpha*g(df.Y,df.Ypredicted,df.X2_scaled)\n",
      "            \n",
      "        C_history.append([CostFunction(df.Y,df.Ypredicted)])\n",
      "        \n",
      "        \n",
      "    print \"Finished at \", [theta_0,theta_1,theta_2]\n",
      "    return theta_0, theta_1, theta_2, np.array(C_history)"
     ],
     "language": "python",
     "metadata": {},
     "outputs": [],
     "prompt_number": 80
    },
    {
     "cell_type": "markdown",
     "metadata": {},
     "source": [
      "Set initial guess for all three parameters and alpha value, then run Gradient Descent algorithm"
     ]
    },
    {
     "cell_type": "code",
     "collapsed": false,
     "input": [
      "theta_0_guess = 100\n",
      "theta_1_guess = -0.9\n",
      "theta_2_guess = 0\n",
      "alpha = 0.5\n",
      "num_iters = 50\n",
      "\n",
      "theta_0, theta_1, theta_2, C_history = GradDescent(theta_0_guess,theta_1_guess,theta_2_guess,alpha,num_iters)"
     ],
     "language": "python",
     "metadata": {},
     "outputs": [
      {
       "output_type": "stream",
       "stream": "stdout",
       "text": [
        "Finished at  [340412.65957446775, 110630.73229297251, -6649.1562849461989]\n"
       ]
      }
     ],
     "prompt_number": 81
    },
    {
     "cell_type": "markdown",
     "metadata": {},
     "source": [
      "Use plt.plot() to plot the Cost function history and ensure convergence"
     ]
    },
    {
     "cell_type": "code",
     "collapsed": false,
     "input": [
      "plt.plot(C_history)"
     ],
     "language": "python",
     "metadata": {},
     "outputs": [
      {
       "metadata": {},
       "output_type": "pyout",
       "prompt_number": 82,
       "text": [
        "[<matplotlib.lines.Line2D at 0x7fb908f14910>]"
       ]
      },
      {
       "metadata": {},
       "output_type": "display_data",
       "png": "[encoded data removed]",
       "text": [
        "<matplotlib.figure.Figure at 0x7fb909df0090>"
       ]
      }
     ],
     "prompt_number": 82
    },
    {
     "cell_type": "markdown",
     "metadata": {},
     "source": [
      "Use trained parameters to predict output when x1 = 2200 and x2 = 3.\n",
      "Remember to scale input features accordingly!"
     ]
    },
    {
     "cell_type": "code",
     "collapsed": false,
     "input": [
      "x1_test = (2200-X1_mu)/X1_std\n",
      "x2_test = (3-X2_mu)/X2_std\n",
      "\n",
      "Ypred = LinFunc(x1_test, x2_test, theta_0, theta_1, theta_2)\n",
      "print Ypred"
     ],
     "language": "python",
     "metadata": {},
     "outputs": [
      {
       "output_type": "stream",
       "stream": "stdout",
       "text": [
        "375403.237417\n"
       ]
      }
     ],
     "prompt_number": 83
    },
    {
     "cell_type": "markdown",
     "metadata": {},
     "source": [
      "Go back and re-run algorithm but modify alpha and re-plot Cost function history to see how alpha changes convergence"
     ]
    },
    {
     "cell_type": "heading",
     "level": 2,
     "metadata": {},
     "source": [
      "Non-Linear Regression"
     ]
    },
    {
     "cell_type": "markdown",
     "metadata": {},
     "source": [
      "Load LinRegMultiDataset.csv onto a data frame. Use pd.read_csv(...)"
     ]
    },
    {
     "cell_type": "code",
     "collapsed": false,
     "input": [
      "df2 = pd.read_csv('NonLinRegDataset.csv')"
     ],
     "language": "python",
     "metadata": {},
     "outputs": [],
     "prompt_number": 84
    },
    {
     "cell_type": "markdown",
     "metadata": {},
     "source": [
      "Explore first lines and data format using df2.head()"
     ]
    },
    {
     "cell_type": "code",
     "collapsed": false,
     "input": [
      " df2.head()"
     ],
     "language": "python",
     "metadata": {},
     "outputs": [
      {
       "html": [
        "<div style=\"max-height:1000px;max-width:1500px;overflow:auto;\">\n",
        "<table border=\"1\" class=\"dataframe\">\n",
        "  <thead>\n",
        "    <tr style=\"text-align: right;\">\n",
        "      <th></th>\n",
        "      <th>X</th>\n",
        "      <th>Y</th>\n",
        "    </tr>\n",
        "  </thead>\n",
        "  <tbody>\n",
        "    <tr>\n",
        "      <th>0</th>\n",
        "      <td> 52.180138</td>\n",
        "      <td> 200.108322</td>\n",
        "    </tr>\n",
        "    <tr>\n",
        "      <th>1</th>\n",
        "      <td> 65.231421</td>\n",
        "      <td> 215.061647</td>\n",
        "    </tr>\n",
        "    <tr>\n",
        "      <th>2</th>\n",
        "      <td> 36.517554</td>\n",
        "      <td> 171.206869</td>\n",
        "    </tr>\n",
        "    <tr>\n",
        "      <th>3</th>\n",
        "      <td> 11.029448</td>\n",
        "      <td> 112.232517</td>\n",
        "    </tr>\n",
        "    <tr>\n",
        "      <th>4</th>\n",
        "      <td> 34.858912</td>\n",
        "      <td> 130.389441</td>\n",
        "    </tr>\n",
        "  </tbody>\n",
        "</table>\n",
        "</div>"
       ],
       "metadata": {},
       "output_type": "pyout",
       "prompt_number": 85,
       "text": [
        "           X           Y\n",
        "0  52.180138  200.108322\n",
        "1  65.231421  215.061647\n",
        "2  36.517554  171.206869\n",
        "3  11.029448  112.232517\n",
        "4  34.858912  130.389441"
       ]
      }
     ],
     "prompt_number": 85
    },
    {
     "cell_type": "markdown",
     "metadata": {},
     "source": [
      "Use plt.scatter() to plot X against Y"
     ]
    },
    {
     "cell_type": "code",
     "collapsed": false,
     "input": [
      "plt.scatter(df2.X, df2.Y)"
     ],
     "language": "python",
     "metadata": {},
     "outputs": [
      {
       "metadata": {},
       "output_type": "pyout",
       "prompt_number": 86,
       "text": [
        "<matplotlib.collections.PathCollection at 0x7fb908e56590>"
       ]
      },
      {
       "metadata": {},
       "output_type": "display_data",
       "png": "[encoded data removed]",
       "text": [
        "<matplotlib.figure.Figure at 0x7fb908fecd50>"
       ]
      }
     ],
     "prompt_number": 86
    },
    {
     "cell_type": "markdown",
     "metadata": {},
     "source": [
      "We are interested in fitting a third order polynomial function to this dataset. At the moment, our only input feature is the original X input.\n",
      "We need to create the following input features:\n",
      "$$X^2 \\text{ and } X^3$$\n",
      "In order to do this create new columns in the data frame equal to these."
     ]
    },
    {
     "cell_type": "code",
     "collapsed": false,
     "input": [
      "df2['X2'] = df2.X**2\n",
      "df2['X3'] = df2.X**3"
     ],
     "language": "python",
     "metadata": {},
     "outputs": [],
     "prompt_number": 87
    },
    {
     "cell_type": "markdown",
     "metadata": {},
     "source": [
      "We now need to scale all three feature vectors, which we can do using our original feature scaling function.\n",
      "Ensure you store the scaling values once again, and store scaled values as new columns in data frame."
     ]
    },
    {
     "cell_type": "code",
     "collapsed": false,
     "input": [
      "df2['X_scaled'], X_mu, X_std = FeatureScale(df2.X)\n",
      "df2['X2_scaled'], X2_mu, X2_std = FeatureScale(df2.X2)\n",
      "df2['X3_scaled'], X3_mu, X3_std = FeatureScale(df2.X3)"
     ],
     "language": "python",
     "metadata": {},
     "outputs": [],
     "prompt_number": 88
    },
    {
     "cell_type": "markdown",
     "metadata": {},
     "source": [
      "Finish Gradient Descent algorithm.\n",
      "Code polynomial function directly into the function (using the scaled features!)\n",
      "Use g function coded earlier for the update equations."
     ]
    },
    {
     "cell_type": "code",
     "collapsed": false,
     "input": [
      "def GradDescent(theta_0,theta_1,theta_2,theta_3,alpha,num_iters):\n",
      "    \n",
      "    #C_history records values for plotting\n",
      "    C_history = []\n",
      "    \n",
      "    #Initalises Ypredicted to ensure existence in dataframe\n",
      "    df2['Ypredicted'] = df2.Y\n",
      "    \n",
      "    for i in np.arange(num_iters):\n",
      "        #Calculate prediction for parameter values\n",
      "        df2.Ypredicted = theta_0 + theta_1*df2.X_scaled + theta_2*df2.X2_scaled + theta_3*df2.X3_scaled\n",
      "        \n",
      "        #Update parameters\n",
      "        theta_0 = theta_0 - alpha*g(df2.Y,df2.Ypredicted,1)\n",
      "        theta_1 = theta_1 - alpha*g(df2.Y,df2.Ypredicted,df2.X_scaled)\n",
      "        theta_2 = theta_2 - alpha*g(df2.Y,df2.Ypredicted,df2.X2_scaled)\n",
      "        theta_3 = theta_3 - alpha*g(df2.Y,df2.Ypredicted,df2.X3_scaled)\n",
      "            \n",
      "        C_history.append([CostFunction(df2.Y,df2.Ypredicted)])\n",
      "        \n",
      "        \n",
      "    print \"Finished at \", [theta_0,theta_1,theta_2,theta_3]\n",
      "    return theta_0, theta_1, theta_2, theta_3, np.array(C_history)"
     ],
     "language": "python",
     "metadata": {},
     "outputs": [],
     "prompt_number": 100
    },
    {
     "cell_type": "markdown",
     "metadata": {},
     "source": [
      "Set initial guess for all three parameters and alpha value, then run Gradient Descent algorithm"
     ]
    },
    {
     "cell_type": "code",
     "collapsed": false,
     "input": [
      "theta_0_guess = 500\n",
      "theta_1_guess = 42\n",
      "theta_2_guess = 20\n",
      "theta_3_guess = -20\n",
      "alpha = 0.1\n",
      "num_iters = 100\n",
      "\n",
      "theta_0, theta_1, theta_2, theta_3, C_history = GradDescent(theta_0_guess,theta_1_guess,theta_2_guess,theta_3_guess,alpha,num_iters)"
     ],
     "language": "python",
     "metadata": {},
     "outputs": [
      {
       "output_type": "stream",
       "stream": "stdout",
       "text": [
        "Finished at  [167.90781442821515, 57.751710587463393, 15.526199866857249, -43.934505306311571]\n"
       ]
      }
     ],
     "prompt_number": 116
    },
    {
     "cell_type": "markdown",
     "metadata": {},
     "source": [
      "Use plt.plot() to plot the Cost function history and ensure convergence"
     ]
    },
    {
     "cell_type": "code",
     "collapsed": false,
     "input": [
      "plt.plot(C_history)"
     ],
     "language": "python",
     "metadata": {},
     "outputs": [
      {
       "metadata": {},
       "output_type": "pyout",
       "prompt_number": 117,
       "text": [
        "[<matplotlib.lines.Line2D at 0x7fb908563810>]"
       ]
      },
      {
       "metadata": {},
       "output_type": "display_data",
       "png": "[encoded data removed]",
       "text": [
        "<matplotlib.figure.Figure at 0x7fb908725890>"
       ]
      }
     ],
     "prompt_number": 117
    },
    {
     "cell_type": "markdown",
     "metadata": {},
     "source": [
      "Use the following code to plot the fitted function and observe how good the fit is"
     ]
    },
    {
     "cell_type": "code",
     "collapsed": false,
     "input": [
      "xpvec = np.linspace(0,100,100)\n",
      "xpvec2 = xpvec**2\n",
      "xpvec3 = xpvec**3\n",
      "xpvec_scaled = (xpvec - X_mu) / X_std\n",
      "xpvec2_scaled = (xpvec2 - X2_mu) / X2_std\n",
      "xpvec3_scaled = (xpvec3 - X3_mu) / X3_std\n",
      "\n",
      "ypred = theta_0 + theta_1*xpvec_scaled + theta_2*xpvec2_scaled + theta_3*xpvec3_scaled\n",
      "\n",
      "plt.scatter(df2.X,df2.Y)\n",
      "plt.plot(xpvec,ypred)"
     ],
     "language": "python",
     "metadata": {},
     "outputs": [
      {
       "metadata": {},
       "output_type": "pyout",
       "prompt_number": 118,
       "text": [
        "[<matplotlib.lines.Line2D at 0x7fb9085e3210>]"
       ]
      },
      {
       "metadata": {},
       "output_type": "display_data",
       "png": "[encoded data removed]",
       "text": [
        "<matplotlib.figure.Figure at 0x7fb90863add0>"
       ]
      }
     ],
     "prompt_number": 118
    },
    {
     "cell_type": "markdown",
     "metadata": {},
     "source": [
      "What is wrong with this plot? Why might it not have found a good fit?"
     ]
    },
    {
     "cell_type": "markdown",
     "metadata": {},
     "source": [
      "The answer lies in the algorithm finding a LOCAL MINIMUM. Try changing the original guesses and see what happens to the line."
     ]
    }
   ],
   "metadata": {}
  }
 ]
}